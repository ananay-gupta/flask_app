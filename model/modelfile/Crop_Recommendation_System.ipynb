{
  "metadata": {
    "kernelspec": {
      "language": "python",
      "display_name": "Python 3",
      "name": "python3"
    },
    "language_info": {
      "pygments_lexer": "ipython3",
      "nbconvert_exporter": "python",
      "version": "3.6.4",
      "file_extension": ".py",
      "codemirror_mode": {
        "name": "ipython",
        "version": 3
      },
      "name": "python",
      "mimetype": "text/x-python"
    },
    "colab": {
      "provenance": []
    }
  },
  "nbformat_minor": 0,
  "nbformat": 4,
  "cells": [
    {
      "cell_type": "code",
      "source": [
        "import pandas as pd\n",
        "import numpy as np\n",
        "import random"
      ],
      "metadata": {
        "_uuid": "8f2839f25d086af736a60e9eeb907d3b93b6e0e5",
        "_cell_guid": "b1076dfc-b9ad-4769-8c92-a6c4dae69d19",
        "execution": {
          "iopub.status.busy": "2021-10-03T08:53:01.309142Z",
          "iopub.execute_input": "2021-10-03T08:53:01.31024Z",
          "iopub.status.idle": "2021-10-03T08:53:03.979382Z",
          "shell.execute_reply.started": "2021-10-03T08:53:01.310084Z",
          "shell.execute_reply": "2021-10-03T08:53:03.978318Z"
        },
        "trusted": true,
        "id": "u7KbEcw89WL7"
      },
      "execution_count": null,
      "outputs": []
    },
    {
      "cell_type": "code",
      "source": [
        "cropdf = pd.read_csv(\"Crop_recommendation.csv\")"
      ],
      "metadata": {
        "execution": {
          "iopub.status.busy": "2021-10-03T08:53:03.981458Z",
          "iopub.execute_input": "2021-10-03T08:53:03.981697Z",
          "iopub.status.idle": "2021-10-03T08:53:04.024307Z",
          "shell.execute_reply.started": "2021-10-03T08:53:03.981668Z",
          "shell.execute_reply": "2021-10-03T08:53:04.023373Z"
        },
        "trusted": true,
        "id": "Z8QG3jsg9WL9"
      },
      "execution_count": null,
      "outputs": []
    },
    {
      "cell_type": "code",
      "source": [
        "X = cropdf.drop('label', axis=1)\n",
        "y = cropdf['label']"
      ],
      "metadata": {
        "execution": {
          "iopub.status.busy": "2021-10-03T08:53:06.322599Z",
          "iopub.execute_input": "2021-10-03T08:53:06.3229Z",
          "iopub.status.idle": "2021-10-03T08:53:06.3287Z",
          "shell.execute_reply.started": "2021-10-03T08:53:06.322868Z",
          "shell.execute_reply": "2021-10-03T08:53:06.327738Z"
        },
        "trusted": true,
        "id": "FhgyVP6h9WMK"
      },
      "execution_count": null,
      "outputs": []
    },
    {
      "cell_type": "code",
      "source": [
        "from sklearn.model_selection import train_test_split\n",
        "X_train, X_test, y_train, y_test = train_test_split(X, y, test_size = 0.3,\n",
        "                                                    shuffle = True, random_state = 0)"
      ],
      "metadata": {
        "execution": {
          "iopub.status.busy": "2021-10-03T08:53:06.330339Z",
          "iopub.execute_input": "2021-10-03T08:53:06.331206Z",
          "iopub.status.idle": "2021-10-03T08:53:06.513542Z",
          "shell.execute_reply.started": "2021-10-03T08:53:06.331112Z",
          "shell.execute_reply": "2021-10-03T08:53:06.512547Z"
        },
        "trusted": true,
        "id": "JGQP32kD9WML"
      },
      "execution_count": null,
      "outputs": []
    },
    {
      "cell_type": "code",
      "source": [
        "# build the lightgbm model\n",
        "import lightgbm as lgb\n",
        "\n",
        "model = lgb.LGBMClassifier()\n",
        "model.fit(X_train, y_train)"
      ],
      "metadata": {
        "execution": {
          "iopub.status.busy": "2021-10-03T08:53:06.514703Z",
          "iopub.execute_input": "2021-10-03T08:53:06.515535Z",
          "iopub.status.idle": "2021-10-03T08:53:08.167436Z",
          "shell.execute_reply.started": "2021-10-03T08:53:06.515493Z",
          "shell.execute_reply": "2021-10-03T08:53:08.166446Z"
        },
        "trusted": true,
        "colab": {
          "base_uri": "https://localhost:8080/",
          "height": 74
        },
        "id": "HInAiIoJ9WMM",
        "outputId": "757b2c33-67f8-4c35-edba-8838f030685d"
      },
      "execution_count": null,
      "outputs": [
        {
          "output_type": "execute_result",
          "data": {
            "text/plain": [
              "LGBMClassifier()"
            ],
            "text/html": [
              "<style>#sk-container-id-2 {color: black;background-color: white;}#sk-container-id-2 pre{padding: 0;}#sk-container-id-2 div.sk-toggleable {background-color: white;}#sk-container-id-2 label.sk-toggleable__label {cursor: pointer;display: block;width: 100%;margin-bottom: 0;padding: 0.3em;box-sizing: border-box;text-align: center;}#sk-container-id-2 label.sk-toggleable__label-arrow:before {content: \"▸\";float: left;margin-right: 0.25em;color: #696969;}#sk-container-id-2 label.sk-toggleable__label-arrow:hover:before {color: black;}#sk-container-id-2 div.sk-estimator:hover label.sk-toggleable__label-arrow:before {color: black;}#sk-container-id-2 div.sk-toggleable__content {max-height: 0;max-width: 0;overflow: hidden;text-align: left;background-color: #f0f8ff;}#sk-container-id-2 div.sk-toggleable__content pre {margin: 0.2em;color: black;border-radius: 0.25em;background-color: #f0f8ff;}#sk-container-id-2 input.sk-toggleable__control:checked~div.sk-toggleable__content {max-height: 200px;max-width: 100%;overflow: auto;}#sk-container-id-2 input.sk-toggleable__control:checked~label.sk-toggleable__label-arrow:before {content: \"▾\";}#sk-container-id-2 div.sk-estimator input.sk-toggleable__control:checked~label.sk-toggleable__label {background-color: #d4ebff;}#sk-container-id-2 div.sk-label input.sk-toggleable__control:checked~label.sk-toggleable__label {background-color: #d4ebff;}#sk-container-id-2 input.sk-hidden--visually {border: 0;clip: rect(1px 1px 1px 1px);clip: rect(1px, 1px, 1px, 1px);height: 1px;margin: -1px;overflow: hidden;padding: 0;position: absolute;width: 1px;}#sk-container-id-2 div.sk-estimator {font-family: monospace;background-color: #f0f8ff;border: 1px dotted black;border-radius: 0.25em;box-sizing: border-box;margin-bottom: 0.5em;}#sk-container-id-2 div.sk-estimator:hover {background-color: #d4ebff;}#sk-container-id-2 div.sk-parallel-item::after {content: \"\";width: 100%;border-bottom: 1px solid gray;flex-grow: 1;}#sk-container-id-2 div.sk-label:hover label.sk-toggleable__label {background-color: #d4ebff;}#sk-container-id-2 div.sk-serial::before {content: \"\";position: absolute;border-left: 1px solid gray;box-sizing: border-box;top: 0;bottom: 0;left: 50%;z-index: 0;}#sk-container-id-2 div.sk-serial {display: flex;flex-direction: column;align-items: center;background-color: white;padding-right: 0.2em;padding-left: 0.2em;position: relative;}#sk-container-id-2 div.sk-item {position: relative;z-index: 1;}#sk-container-id-2 div.sk-parallel {display: flex;align-items: stretch;justify-content: center;background-color: white;position: relative;}#sk-container-id-2 div.sk-item::before, #sk-container-id-2 div.sk-parallel-item::before {content: \"\";position: absolute;border-left: 1px solid gray;box-sizing: border-box;top: 0;bottom: 0;left: 50%;z-index: -1;}#sk-container-id-2 div.sk-parallel-item {display: flex;flex-direction: column;z-index: 1;position: relative;background-color: white;}#sk-container-id-2 div.sk-parallel-item:first-child::after {align-self: flex-end;width: 50%;}#sk-container-id-2 div.sk-parallel-item:last-child::after {align-self: flex-start;width: 50%;}#sk-container-id-2 div.sk-parallel-item:only-child::after {width: 0;}#sk-container-id-2 div.sk-dashed-wrapped {border: 1px dashed gray;margin: 0 0.4em 0.5em 0.4em;box-sizing: border-box;padding-bottom: 0.4em;background-color: white;}#sk-container-id-2 div.sk-label label {font-family: monospace;font-weight: bold;display: inline-block;line-height: 1.2em;}#sk-container-id-2 div.sk-label-container {text-align: center;}#sk-container-id-2 div.sk-container {/* jupyter's `normalize.less` sets `[hidden] { display: none; }` but bootstrap.min.css set `[hidden] { display: none !important; }` so we also need the `!important` here to be able to override the default hidden behavior on the sphinx rendered scikit-learn.org. See: https://github.com/scikit-learn/scikit-learn/issues/21755 */display: inline-block !important;position: relative;}#sk-container-id-2 div.sk-text-repr-fallback {display: none;}</style><div id=\"sk-container-id-2\" class=\"sk-top-container\"><div class=\"sk-text-repr-fallback\"><pre>LGBMClassifier()</pre><b>In a Jupyter environment, please rerun this cell to show the HTML representation or trust the notebook. <br />On GitHub, the HTML representation is unable to render, please try loading this page with nbviewer.org.</b></div><div class=\"sk-container\" hidden><div class=\"sk-item\"><div class=\"sk-estimator sk-toggleable\"><input class=\"sk-toggleable__control sk-hidden--visually\" id=\"sk-estimator-id-2\" type=\"checkbox\" checked><label for=\"sk-estimator-id-2\" class=\"sk-toggleable__label sk-toggleable__label-arrow\">LGBMClassifier</label><div class=\"sk-toggleable__content\"><pre>LGBMClassifier()</pre></div></div></div></div></div>"
            ]
          },
          "metadata": {},
          "execution_count": 28
        }
      ]
    },
    {
      "cell_type": "code",
      "source": [
        "# predict the results\n",
        "y_pred=model.predict(X_test)"
      ],
      "metadata": {
        "execution": {
          "iopub.status.busy": "2021-10-03T08:53:08.168646Z",
          "iopub.execute_input": "2021-10-03T08:53:08.168884Z",
          "iopub.status.idle": "2021-10-03T08:53:08.209424Z",
          "shell.execute_reply.started": "2021-10-03T08:53:08.168857Z",
          "shell.execute_reply": "2021-10-03T08:53:08.208407Z"
        },
        "trusted": true,
        "id": "3jSuL9kS9WMM"
      },
      "execution_count": null,
      "outputs": []
    },
    {
      "cell_type": "code",
      "source": [
        "# view accuracy\n",
        "from sklearn.metrics import accuracy_score\n",
        "\n",
        "accuracy=accuracy_score(y_pred, y_test)\n",
        "print('LightGBM Model accuracy score: {0:0.4f}'.format(accuracy_score(y_test, y_pred)))"
      ],
      "metadata": {
        "execution": {
          "iopub.status.busy": "2021-10-03T08:53:08.210738Z",
          "iopub.execute_input": "2021-10-03T08:53:08.211561Z",
          "iopub.status.idle": "2021-10-03T08:53:08.219638Z",
          "shell.execute_reply.started": "2021-10-03T08:53:08.211521Z",
          "shell.execute_reply": "2021-10-03T08:53:08.218985Z"
        },
        "trusted": true,
        "colab": {
          "base_uri": "https://localhost:8080/"
        },
        "id": "tr2cwPv49WMN",
        "outputId": "9bc96fc5-c72e-410a-9f00-24b5bd6156dd"
      },
      "execution_count": null,
      "outputs": [
        {
          "output_type": "stream",
          "name": "stdout",
          "text": [
            "LightGBM Model accuracy score: 0.9894\n"
          ]
        }
      ]
    },
    {
      "cell_type": "code",
      "source": [
        "y_pred_train = model.predict(X_train)\n",
        "print('Training-set accuracy score: {0:0.4f}'. format(accuracy_score(y_train, y_pred_train)))"
      ],
      "metadata": {
        "execution": {
          "iopub.status.busy": "2021-10-03T08:53:08.220696Z",
          "iopub.execute_input": "2021-10-03T08:53:08.222534Z",
          "iopub.status.idle": "2021-10-03T08:53:08.310553Z",
          "shell.execute_reply.started": "2021-10-03T08:53:08.222487Z",
          "shell.execute_reply": "2021-10-03T08:53:08.309874Z"
        },
        "trusted": true,
        "colab": {
          "base_uri": "https://localhost:8080/"
        },
        "id": "2rEaDhM39WMN",
        "outputId": "b23caa05-a292-4ad8-98eb-2c811064a6d8"
      },
      "execution_count": null,
      "outputs": [
        {
          "output_type": "stream",
          "name": "stdout",
          "text": [
            "Training-set accuracy score: 1.0000\n"
          ]
        }
      ]
    },
    {
      "cell_type": "code",
      "source": [
        "prediction=model.predict([[80, 35, 22, 22.75, 90, 5.8,110]])\n",
        "prediction"
      ],
      "metadata": {
        "execution": {
          "iopub.status.busy": "2021-10-03T08:53:10.692823Z",
          "iopub.execute_input": "2021-10-03T08:53:10.693073Z",
          "iopub.status.idle": "2021-10-03T08:53:10.705786Z",
          "shell.execute_reply.started": "2021-10-03T08:53:10.693044Z",
          "shell.execute_reply": "2021-10-03T08:53:10.705116Z"
        },
        "trusted": true,
        "colab": {
          "base_uri": "https://localhost:8080/"
        },
        "id": "0rZSh-WJ9WMP",
        "outputId": "288026a4-00af-48dc-b240-f1f7abf747b4"
      },
      "execution_count": null,
      "outputs": [
        {
          "output_type": "execute_result",
          "data": {
            "text/plain": [
              "array(['maize'], dtype=object)"
            ]
          },
          "metadata": {},
          "execution_count": 35
        }
      ]
    },
    {
      "cell_type": "code",
      "source": [],
      "metadata": {
        "id": "4ZReZj5xzpdB"
      },
      "execution_count": null,
      "outputs": []
    }
  ]
}